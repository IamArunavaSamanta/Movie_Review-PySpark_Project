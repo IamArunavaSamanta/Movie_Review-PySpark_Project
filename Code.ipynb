{
 "cells": [
  {
   "cell_type": "code",
   "execution_count": 1,
   "id": "52bd2a3d-4ea0-49d8-ae4e-a245addcd34d",
   "metadata": {},
   "outputs": [],
   "source": [
    "from pyspark.sql import SparkSession"
   ]
  },
  {
   "cell_type": "code",
   "execution_count": 2,
   "id": "65271ae9-e833-45ab-846e-d8260877834e",
   "metadata": {},
   "outputs": [],
   "source": [
    "spark = SparkSession.builder\\\n",
    "        .master(\"local\")\\\n",
    "        .appName(\"SparkApp2233\")\\\n",
    "        .config(\"some.spark.option.config\", \"somevalue\")\\\n",
    "        .getOrCreate()"
   ]
  },
  {
   "cell_type": "code",
   "execution_count": 3,
   "id": "d76185ef-91eb-4c47-bf5c-a694b844b68e",
   "metadata": {},
   "outputs": [],
   "source": [
    "from pyspark.sql.functions import *"
   ]
  },
  {
   "cell_type": "markdown",
   "id": "5b5376c8-2ffd-4e5b-968b-06c195620f2f",
   "metadata": {},
   "source": [
    "# Load Files"
   ]
  },
  {
   "cell_type": "code",
   "execution_count": 4,
   "id": "b1b5f41b-badf-400e-962a-3d2eea7d3350",
   "metadata": {},
   "outputs": [],
   "source": [
    "movies = spark.read.format(\"csv\").option(\"header\",\"true\").load(\"movies.csv\")\n",
    "ratings = spark.read.format(\"csv\").option(\"header\",\"true\").load(\"ratings.csv\")\n",
    "users = spark.read.format(\"csv\").option(\"header\",\"true\").load(\"users.csv\")"
   ]
  },
  {
   "cell_type": "markdown",
   "id": "6203d458-e808-4048-b681-73b89e2d7c3e",
   "metadata": {},
   "source": [
    "# Schema"
   ]
  },
  {
   "cell_type": "code",
   "execution_count": 5,
   "id": "e345e59a-0659-4cae-a6c9-c8fd71e18076",
   "metadata": {},
   "outputs": [
    {
     "name": "stdout",
     "output_type": "stream",
     "text": [
      "root\n",
      " |-- movie_id: string (nullable = true)\n",
      " |-- title: string (nullable = true)\n",
      " |-- genre: string (nullable = true)\n",
      " |-- country: string (nullable = true)\n",
      " |-- release_year: string (nullable = true)\n",
      "\n",
      "root\n",
      " |-- user_id: string (nullable = true)\n",
      " |-- movie_id: string (nullable = true)\n",
      " |-- rating: string (nullable = true)\n",
      " |-- rating_date: string (nullable = true)\n",
      "\n",
      "root\n",
      " |-- user_id: string (nullable = true)\n",
      " |-- country: string (nullable = true)\n",
      " |-- age: string (nullable = true)\n",
      "\n"
     ]
    }
   ],
   "source": [
    "movies.printSchema()\n",
    "ratings.printSchema()\n",
    "users.printSchema()"
   ]
  },
  {
   "cell_type": "markdown",
   "id": "587bc2d3-c966-4557-a5f7-2e159a9c88f7",
   "metadata": {},
   "source": [
    "# Row Count"
   ]
  },
  {
   "cell_type": "code",
   "execution_count": 6,
   "id": "0fe15602-eb39-4778-afed-f007e2f345f5",
   "metadata": {},
   "outputs": [
    {
     "name": "stdout",
     "output_type": "stream",
     "text": [
      "50\n",
      "1000\n",
      "100\n"
     ]
    }
   ],
   "source": [
    "print(movies.count())\n",
    "print(ratings.count())\n",
    "print(users.count())"
   ]
  },
  {
   "cell_type": "markdown",
   "id": "4e455e27-a1ea-4242-9748-29cdfa4f04df",
   "metadata": {},
   "source": [
    "# show"
   ]
  },
  {
   "cell_type": "code",
   "execution_count": 7,
   "id": "ee8841cf-4b22-4be9-8f42-727c3bb20fed",
   "metadata": {},
   "outputs": [
    {
     "name": "stdout",
     "output_type": "stream",
     "text": [
      "+--------+-------+-------+-------+------------+\n",
      "|movie_id|  title|  genre|country|release_year|\n",
      "+--------+-------+-------+-------+------------+\n",
      "|       1|Movie_1|Romance|  Japan|        2004|\n",
      "|       2|Movie_2| Action|  India|        2010|\n",
      "+--------+-------+-------+-------+------------+\n",
      "only showing top 2 rows\n",
      "+-------+--------+------+-----------+\n",
      "|user_id|movie_id|rating|rating_date|\n",
      "+-------+--------+------+-----------+\n",
      "|   1097|       5|   1.0| 2023-10-19|\n",
      "|   1013|       5|   3.2| 2023-09-09|\n",
      "+-------+--------+------+-----------+\n",
      "only showing top 2 rows\n",
      "+-------+-------+---+\n",
      "|user_id|country|age|\n",
      "+-------+-------+---+\n",
      "|   1001|     UK| 47|\n",
      "|   1002|  Japan| 21|\n",
      "+-------+-------+---+\n",
      "only showing top 2 rows\n"
     ]
    }
   ],
   "source": [
    "movies.show(2)\n",
    "ratings.show(2)\n",
    "users.show(2)"
   ]
  },
  {
   "cell_type": "code",
   "execution_count": 8,
   "id": "42f1c877-8e01-4b16-b979-64dbb20561f3",
   "metadata": {},
   "outputs": [],
   "source": [
    "#Rename Columns\n",
    "users = users.withColumnRenamed(\"user_id\" , \"UID\")\\\n",
    "                .withColumnRenamed(\"country\", \"user_country\")\\\n",
    "                .withColumnRenamed(\"age\",\"user_age\")\n",
    "movies = movies.withColumnRenamed(\"movie_id\",\"MID\")"
   ]
  },
  {
   "cell_type": "markdown",
   "id": "5477bc3a-c549-455f-92a5-6bc170d93fa3",
   "metadata": {},
   "source": [
    "# Joining"
   ]
  },
  {
   "cell_type": "code",
   "execution_count": 9,
   "id": "f93cc300-f0fa-4796-b8d5-20c9b23cb8ff",
   "metadata": {},
   "outputs": [],
   "source": [
    "ratings_users = ratings.join(users, users[\"UID\"] == ratings[\"user_id\"], how=\"inner\")"
   ]
  },
  {
   "cell_type": "code",
   "execution_count": 10,
   "id": "5ace171f-f01e-4d7c-b18b-20e992d075cf",
   "metadata": {},
   "outputs": [
    {
     "name": "stdout",
     "output_type": "stream",
     "text": [
      "+-------+--------+------+-----------+----+------------+--------+\n",
      "|user_id|movie_id|rating|rating_date| UID|user_country|user_age|\n",
      "+-------+--------+------+-----------+----+------------+--------+\n",
      "|   1097|       5|   1.0| 2023-10-19|1097|      France|      59|\n",
      "|   1013|       5|   3.2| 2023-09-09|1013|       Japan|      52|\n",
      "|   1017|      23|   4.5| 2023-04-12|1017|       India|      29|\n",
      "|   1037|      11|   2.8| 2023-09-23|1037|       Japan|      21|\n",
      "|   1039|      40|   4.9| 2023-11-17|1039|       India|      42|\n",
      "+-------+--------+------+-----------+----+------------+--------+\n",
      "only showing top 5 rows\n"
     ]
    }
   ],
   "source": [
    "ratings_users.show(5)"
   ]
  },
  {
   "cell_type": "code",
   "execution_count": 11,
   "id": "b1932f70-45dd-4963-8ddd-856e1a3c8920",
   "metadata": {},
   "outputs": [],
   "source": [
    "ratings_users_movies = ratings_users.join(movies, movies[\"MID\"] == ratings_users[\"movie_id\"], how=\"inner\")"
   ]
  },
  {
   "cell_type": "code",
   "execution_count": 12,
   "id": "4419e1c9-48c3-4d97-ad34-8c7b56764ae6",
   "metadata": {},
   "outputs": [],
   "source": [
    "ratings_users_movies = ratings_users_movies.drop(\"MID\",\"UID\")"
   ]
  },
  {
   "cell_type": "code",
   "execution_count": 13,
   "id": "36b66783-5f18-430c-8176-4048b41647c6",
   "metadata": {},
   "outputs": [
    {
     "data": {
      "text/plain": [
       "1000"
      ]
     },
     "execution_count": 13,
     "metadata": {},
     "output_type": "execute_result"
    }
   ],
   "source": [
    "ratings_users_movies.count()"
   ]
  },
  {
   "cell_type": "code",
   "execution_count": 14,
   "id": "54ee6436-a4f0-4f44-a6ba-b6ce716fd0fe",
   "metadata": {},
   "outputs": [
    {
     "name": "stdout",
     "output_type": "stream",
     "text": [
      "+-------+--------+------+-----------+------------+--------+--------+-------+-------+------------+\n",
      "|user_id|movie_id|rating|rating_date|user_country|user_age|   title|  genre|country|release_year|\n",
      "+-------+--------+------+-----------+------------+--------+--------+-------+-------+------------+\n",
      "|   1097|       5|   1.0| 2023-10-19|      France|      59| Movie_5|  Drama| France|        1992|\n",
      "|   1013|       5|   3.2| 2023-09-09|       Japan|      52| Movie_5|  Drama| France|        1992|\n",
      "|   1017|      23|   4.5| 2023-04-12|       India|      29|Movie_23| Sci-Fi|    USA|        2013|\n",
      "|   1037|      11|   2.8| 2023-09-23|       Japan|      21|Movie_11|Romance|  India|        2010|\n",
      "|   1039|      40|   4.9| 2023-11-17|       India|      42|Movie_40|  Drama|    USA|        1997|\n",
      "+-------+--------+------+-----------+------------+--------+--------+-------+-------+------------+\n",
      "only showing top 5 rows\n"
     ]
    }
   ],
   "source": [
    "ratings_users_movies.show(5)"
   ]
  },
  {
   "cell_type": "code",
   "execution_count": 15,
   "id": "257c8776-ef5c-4dab-bca5-55699e4f9c91",
   "metadata": {},
   "outputs": [],
   "source": [
    "ratings_users_movies = ratings_users_movies.withColumn(\"movie_id\", col(\"movie_id\").cast(\"int\"))\n",
    "ratings_users_movies = ratings_users_movies.withColumn(\"rating\", col(\"rating\").cast(\"float\"))"
   ]
  },
  {
   "cell_type": "markdown",
   "id": "d1210fe4-f303-4c6d-9742-52dfc7fd61de",
   "metadata": {},
   "source": [
    "# 1. Calculate average rating per movie and identify top 5 movies in each genre."
   ]
  },
  {
   "cell_type": "code",
   "execution_count": 16,
   "id": "3118706a-70e6-4fc3-b90a-4cb2bb2bfb05",
   "metadata": {},
   "outputs": [
    {
     "name": "stdout",
     "output_type": "stream",
     "text": [
      "+--------+--------+-------+----------+\n",
      "|movie_id|   title|  genre|Rating Avg|\n",
      "+--------+--------+-------+----------+\n",
      "|       1| Movie_1|Romance|       3.5|\n",
      "|       2| Movie_2| Action|       3.0|\n",
      "|       3| Movie_3| Action|       3.2|\n",
      "|       4| Movie_4|Romance|       2.9|\n",
      "|       5| Movie_5|  Drama|       2.7|\n",
      "|       6| Movie_6| Comedy|       2.6|\n",
      "|       7| Movie_7| Comedy|       2.7|\n",
      "|       8| Movie_8| Comedy|       2.8|\n",
      "|       9| Movie_9|Romance|       3.0|\n",
      "|      10|Movie_10| Action|       3.3|\n",
      "|      11|Movie_11|Romance|       2.9|\n",
      "|      12|Movie_12|Romance|       3.2|\n",
      "|      13|Movie_13| Sci-Fi|       3.1|\n",
      "|      14|Movie_14| Action|       3.4|\n",
      "|      15|Movie_15| Sci-Fi|       3.0|\n",
      "|      16|Movie_16| Horror|       2.8|\n",
      "|      17|Movie_17| Action|       3.2|\n",
      "|      18|Movie_18| Action|       2.9|\n",
      "|      19|Movie_19| Action|       3.1|\n",
      "|      20|Movie_20| Comedy|       3.3|\n",
      "+--------+--------+-------+----------+\n",
      "only showing top 20 rows\n"
     ]
    }
   ],
   "source": [
    "avgRating = ratings_users_movies.groupBy(\"movie_id\",\"title\",\"genre\").agg(round(avg(\"rating\"),1).alias(\"Rating Avg\"))\n",
    "avgRating = avgRating.orderBy(col(\"movie_id\").asc())\n",
    "avgRating.show()"
   ]
  },
  {
   "cell_type": "markdown",
   "id": "4c7eab82-76cb-4836-8d5a-beaed75d5fbc",
   "metadata": {},
   "source": [
    "# Window functions"
   ]
  },
  {
   "cell_type": "code",
   "execution_count": 17,
   "id": "386b0bca-ce86-48f1-94ef-0ff85ff82250",
   "metadata": {},
   "outputs": [],
   "source": [
    "from pyspark.sql.window import Window\n",
    "from pyspark.sql.functions import col, avg, round, row_number\n",
    "window = Window.partitionBy(\"genre\").orderBy(col(\"Rating Avg\").desc())"
   ]
  },
  {
   "cell_type": "code",
   "execution_count": 18,
   "id": "6e74676f-717e-4928-9e4e-42a339435834",
   "metadata": {},
   "outputs": [],
   "source": [
    "topGenre = avgRating.withColumn(\"rank\", row_number().over(window))"
   ]
  },
  {
   "cell_type": "code",
   "execution_count": 19,
   "id": "d271c20e-5fec-48bf-8464-ae2955f18c2f",
   "metadata": {},
   "outputs": [
    {
     "name": "stdout",
     "output_type": "stream",
     "text": [
      "+--------+--------+-------+----------+----+\n",
      "|movie_id|   title|  genre|Rating Avg|rank|\n",
      "+--------+--------+-------+----------+----+\n",
      "|      14|Movie_14| Action|       3.4|   1|\n",
      "|      10|Movie_10| Action|       3.3|   2|\n",
      "|       3| Movie_3| Action|       3.2|   3|\n",
      "|      17|Movie_17| Action|       3.2|   4|\n",
      "|      46|Movie_46| Action|       3.2|   5|\n",
      "|      20|Movie_20| Comedy|       3.3|   1|\n",
      "|      21|Movie_21| Comedy|       3.3|   2|\n",
      "|      43|Movie_43| Comedy|       3.3|   3|\n",
      "|      26|Movie_26| Comedy|       3.0|   4|\n",
      "|      32|Movie_32| Comedy|       3.0|   5|\n",
      "|      50|Movie_50|  Drama|       3.3|   1|\n",
      "|      41|Movie_41|  Drama|       3.2|   2|\n",
      "|      40|Movie_40|  Drama|       3.1|   3|\n",
      "|      44|Movie_44|  Drama|       3.0|   4|\n",
      "|      49|Movie_49|  Drama|       3.0|   5|\n",
      "|      39|Movie_39| Horror|       3.3|   1|\n",
      "|      47|Movie_47| Horror|       3.1|   2|\n",
      "|      33|Movie_33| Horror|       2.9|   3|\n",
      "|      16|Movie_16| Horror|       2.8|   4|\n",
      "|      31|Movie_31| Horror|       2.5|   5|\n",
      "|       1| Movie_1|Romance|       3.5|   1|\n",
      "|      12|Movie_12|Romance|       3.2|   2|\n",
      "|      38|Movie_38|Romance|       3.2|   3|\n",
      "|      27|Movie_27|Romance|       3.1|   4|\n",
      "|      29|Movie_29|Romance|       3.1|   5|\n",
      "|      23|Movie_23| Sci-Fi|       3.8|   1|\n",
      "|      25|Movie_25| Sci-Fi|       3.2|   2|\n",
      "|      34|Movie_34| Sci-Fi|       3.2|   3|\n",
      "|      13|Movie_13| Sci-Fi|       3.1|   4|\n",
      "|      15|Movie_15| Sci-Fi|       3.0|   5|\n",
      "+--------+--------+-------+----------+----+\n",
      "\n"
     ]
    }
   ],
   "source": [
    "topGenre = topGenre.filter(col(\"rank\")<=5)\n",
    "topGenre.show(100)"
   ]
  },
  {
   "cell_type": "markdown",
   "id": "b6bd8c0b-88ed-4036-9841-bec2df676087",
   "metadata": {},
   "source": [
    "# 2. Calculate average rating per country (based on user country)."
   ]
  },
  {
   "cell_type": "code",
   "execution_count": 20,
   "id": "8d2a588a-d77a-4a4b-899e-28c5a5a6d455",
   "metadata": {},
   "outputs": [
    {
     "name": "stdout",
     "output_type": "stream",
     "text": [
      "+------------+----------+\n",
      "|user_country|Avg Rating|\n",
      "+------------+----------+\n",
      "|     Germany|       3.1|\n",
      "|      France|       3.0|\n",
      "|       India|       3.0|\n",
      "|         USA|       3.0|\n",
      "|          UK|       3.0|\n",
      "|       Japan|       3.0|\n",
      "+------------+----------+\n",
      "\n"
     ]
    }
   ],
   "source": [
    "AvgRatingCountry = ratings_users_movies.groupBy(\"user_country\").agg(round(avg(\"rating\"),1).alias(\"Avg Rating\"))\n",
    "AvgRatingCountry.show()"
   ]
  },
  {
   "cell_type": "markdown",
   "id": "91552073-33f8-4790-a5f6-c673022e3731",
   "metadata": {},
   "source": [
    "# 3. Identify rating anomalies where rating > 5 or rating < 1 (simulate a few anomalies)."
   ]
  },
  {
   "cell_type": "code",
   "execution_count": 21,
   "id": "918142a0-e08d-4a2e-a49e-95d5640267af",
   "metadata": {},
   "outputs": [],
   "source": [
    "RatingAnomalies = ratings_users_movies.filter((col(\"rating\")>5) | (col(\"rating\")<1))"
   ]
  },
  {
   "cell_type": "code",
   "execution_count": 22,
   "id": "0b77312c-1003-4bce-a552-e3522f18d112",
   "metadata": {},
   "outputs": [
    {
     "name": "stdout",
     "output_type": "stream",
     "text": [
      "+-------+--------+------+-----------+------------+--------+-----+-----+-------+------------+\n",
      "|user_id|movie_id|rating|rating_date|user_country|user_age|title|genre|country|release_year|\n",
      "+-------+--------+------+-----------+------------+--------+-----+-----+-------+------------+\n",
      "+-------+--------+------+-----------+------------+--------+-----+-----+-------+------------+\n",
      "\n"
     ]
    }
   ],
   "source": [
    "RatingAnomalies.show(10)"
   ]
  },
  {
   "cell_type": "markdown",
   "id": "f87da5bb-1ebc-48bb-a076-9506be43ebdd",
   "metadata": {},
   "source": [
    "# 4. Segment users into High (avg rating > 4), Medium (avg rating 2-4), Low (avg rating < 2)."
   ]
  },
  {
   "cell_type": "code",
   "execution_count": 23,
   "id": "adc4e5f8-8bf4-47f2-b9fa-f683273c62b6",
   "metadata": {},
   "outputs": [],
   "source": [
    "ratings_users_movies= ratings_users_movies.withColumn(\n",
    "    \"segment\",\n",
    "    when(col(\"rating\") > 4, \"High\")\n",
    "    .when((col(\"rating\") >= 2) & (col(\"rating\") <= 4), \"Medium\")\n",
    "    .otherwise(\"Low\")\n",
    ")"
   ]
  },
  {
   "cell_type": "code",
   "execution_count": 24,
   "id": "fbd62eba-e988-4cfa-a7a3-eac2c6c56f41",
   "metadata": {},
   "outputs": [
    {
     "name": "stdout",
     "output_type": "stream",
     "text": [
      "+-------+--------+------+-----------+------------+--------+--------+-------+-------+------------+-------+\n",
      "|user_id|movie_id|rating|rating_date|user_country|user_age|   title|  genre|country|release_year|segment|\n",
      "+-------+--------+------+-----------+------------+--------+--------+-------+-------+------------+-------+\n",
      "|   1097|       5|   1.0| 2023-10-19|      France|      59| Movie_5|  Drama| France|        1992|    Low|\n",
      "|   1013|       5|   3.2| 2023-09-09|       Japan|      52| Movie_5|  Drama| France|        1992| Medium|\n",
      "|   1017|      23|   4.5| 2023-04-12|       India|      29|Movie_23| Sci-Fi|    USA|        2013|   High|\n",
      "|   1037|      11|   2.8| 2023-09-23|       Japan|      21|Movie_11|Romance|  India|        2010| Medium|\n",
      "|   1039|      40|   4.9| 2023-11-17|       India|      42|Movie_40|  Drama|    USA|        1997|   High|\n",
      "|   1002|      43|   4.3| 2023-05-22|       Japan|      21|Movie_43| Comedy|     UK|        1997|   High|\n",
      "|   1014|       9|   2.1| 2023-02-24|       Japan|      46| Movie_9|Romance|    USA|        1994| Medium|\n",
      "|   1071|      10|   2.1| 2023-10-07|     Germany|      22|Movie_10| Action|  Japan|        2003| Medium|\n",
      "|   1092|      22|   1.8| 2023-11-28|      France|      33|Movie_22| Sci-Fi|  India|        2015|    Low|\n",
      "|   1034|      33|   3.0| 2023-01-03|          UK|      48|Movie_33| Horror|  India|        2017| Medium|\n",
      "+-------+--------+------+-----------+------------+--------+--------+-------+-------+------------+-------+\n",
      "only showing top 10 rows\n"
     ]
    }
   ],
   "source": [
    "ratings_users_movies.show(10)"
   ]
  },
  {
   "cell_type": "markdown",
   "id": "55a8c9c1-d85f-4403-9318-c2fb4e1c30e2",
   "metadata": {},
   "source": [
    "# 5. Generate a summary report with:- Total number of ratings - Number of unique users and movies - Average rating overall - Most active user (by number of ratings)"
   ]
  },
  {
   "cell_type": "code",
   "execution_count": 25,
   "id": "89e4a874-fc0a-4dc6-91ff-56c78b048ef0",
   "metadata": {},
   "outputs": [],
   "source": [
    "TotalRatings = ratings_users_movies.distinct().count()"
   ]
  },
  {
   "cell_type": "code",
   "execution_count": 26,
   "id": "3bd03393-ad86-492e-bad8-331237589f52",
   "metadata": {},
   "outputs": [],
   "source": [
    "TotalUsers = ratings_users_movies.select(\"user_id\").distinct().count()"
   ]
  },
  {
   "cell_type": "code",
   "execution_count": 27,
   "id": "94d6a0ca-a06f-43e4-8bf1-0327ac7991e5",
   "metadata": {},
   "outputs": [],
   "source": [
    "TotalMovies = ratings_users_movies.select(\"movie_id\").distinct().count()"
   ]
  },
  {
   "cell_type": "code",
   "execution_count": 28,
   "id": "9ca6802d-5da5-455a-985b-71f61476017e",
   "metadata": {},
   "outputs": [],
   "source": [
    "AvgRating = ratings_users_movies.select(round(avg(\"rating\"),2)).first()[0]"
   ]
  },
  {
   "cell_type": "code",
   "execution_count": 29,
   "id": "71091270-188d-4c01-9022-1a47680a5bcc",
   "metadata": {},
   "outputs": [],
   "source": [
    "MostActiveUser = ratings_users_movies.groupby(\"user_id\").agg(count(\"rating\").alias(\"rating count\")).orderBy(desc(\"rating count\")).first()"
   ]
  },
  {
   "cell_type": "code",
   "execution_count": 30,
   "id": "0d2ade35-b1f0-445d-be9c-1d6438cfbc89",
   "metadata": {},
   "outputs": [],
   "source": [
    "# Create summary dictionary\n",
    "summary = {\n",
    "    \"Total Ratings\": [TotalRatings],\n",
    "    \"Unique Users\": [TotalUsers],\n",
    "    \"Unique Movies\": [TotalMovies],\n",
    "    \"Average Rating\": [AvgRating],\n",
    "    \"Most Active User\": [MostActiveUser[\"user_id\"]],\n",
    "}"
   ]
  },
  {
   "cell_type": "code",
   "execution_count": 31,
   "id": "32c0830d-2f74-4b4b-b41f-ac52a177c9dc",
   "metadata": {},
   "outputs": [
    {
     "name": "stdout",
     "output_type": "stream",
     "text": [
      "{'Total Ratings': [1000], 'Unique Users': [100], 'Unique Movies': [50], 'Average Rating': [3.0], 'Most Active User': ['1082']}\n"
     ]
    }
   ],
   "source": [
    "print(summary)"
   ]
  },
  {
   "cell_type": "code",
   "execution_count": 32,
   "id": "dd286821-d566-4d88-b9ab-2c1a8d6855d4",
   "metadata": {},
   "outputs": [
    {
     "name": "stdout",
     "output_type": "stream",
     "text": [
      "Summary report has been exported to 'summary_report.csv'.\n"
     ]
    }
   ],
   "source": [
    "# Convert to pandas DataFrame and export to CSV\n",
    "import pandas as pd\n",
    "summary_df = pd.DataFrame(summary)\n",
    "summary_df.to_csv(\"finalsummary_report.csv\", index=False)\n",
    "print(\"Summary report has been exported to 'summary_report.csv'.\")"
   ]
  }
 ],
 "metadata": {
  "kernelspec": {
   "display_name": "Python 3 (ipykernel)",
   "language": "python",
   "name": "python3"
  },
  "language_info": {
   "codemirror_mode": {
    "name": "ipython",
    "version": 3
   },
   "file_extension": ".py",
   "mimetype": "text/x-python",
   "name": "python",
   "nbconvert_exporter": "python",
   "pygments_lexer": "ipython3",
   "version": "3.13.3"
  }
 },
 "nbformat": 4,
 "nbformat_minor": 5
}
